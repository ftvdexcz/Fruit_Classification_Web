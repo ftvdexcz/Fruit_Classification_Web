{
  "cells": [
    {
      "cell_type": "code",
      "execution_count": 1,
      "metadata": {
        "colab": {
          "base_uri": "https://localhost:8080/"
        },
        "id": "haEbOzvXdyF1",
        "outputId": "77f26d23-3b53-4fe0-e63c-d329ce35991e"
      },
      "outputs": [
        {
          "name": "stdout",
          "output_type": "stream",
          "text": [
            "Mounted at /content/drive\n"
          ]
        }
      ],
      "source": [
        "from google.colab import drive\n",
        "drive.mount('/content/drive')"
      ]
    },
    {
      "cell_type": "code",
      "execution_count": 1,
      "metadata": {
        "id": "UJGIdA3MdpJd"
      },
      "outputs": [],
      "source": [
        "import numpy as np \n",
        "import os\n",
        "import matplotlib.pyplot as plt\n",
        "import tensorflow as tf \n",
        "from tensorflow.keras import datasets, layers, models\n",
        "import cv2\n"
      ]
    },
    {
      "cell_type": "code",
      "execution_count": 2,
      "metadata": {
        "id": "Xb4kFO3NdpJm"
      },
      "outputs": [],
      "source": [
        "def load_data(path_data):\n",
        "    def load_file_from_folder(folder_name):\n",
        "        X, y = [], []\n",
        "        for folder in os.listdir(folder_name):\n",
        "            folder_path = os.path.join(folder_name, folder)\n",
        "            for filename in os.listdir(folder_path):\n",
        "                file_path = os.path.join(folder_path, filename)\n",
        "                try:\n",
        "                    image = cv2.imread(file_path)\n",
        "                    if image is not None:\n",
        "                        X.append(image)\n",
        "                        y.append(folder)\n",
        "                except Exception as e:\n",
        "                    print(e)\n",
        "        return X, y\n",
        "    X_train, y_train = load_file_from_folder(path_data + '/' + 'Train')\n",
        "    X_test, y_test = load_file_from_folder(path_data + '/' + 'Test')\n",
        "    return np.array(X_train), np.array(y_train), np.array(X_test), np.array(y_test)\n",
        "\n",
        "path_data = os.getcwd() # current directory\n",
        "X_train,y_train, X_test, y_test = load_data(path_data)"
      ]
    },
    {
      "cell_type": "code",
      "execution_count": null,
      "metadata": {
        "id": "zgcFbrtMdpJo",
        "outputId": "ea0f5cb6-887f-41f4-ecee-570da23508a6"
      },
      "outputs": [
        {
          "name": "stdout",
          "output_type": "stream",
          "text": [
            "(2855, 100, 100, 3) (2855,) (954, 100, 100, 3) (954,)\n"
          ]
        }
      ],
      "source": [
        "print(X_train.shape, y_train.shape, X_test.shape, y_test.shape)"
      ]
    },
    {
      "cell_type": "code",
      "execution_count": null,
      "metadata": {
        "id": "P6zTh9JedpJq",
        "outputId": "b8b160dd-b767-4e82-dc25-ba45e7b26f67"
      },
      "outputs": [
        {
          "name": "stdout",
          "output_type": "stream",
          "text": [
            "['Apple Braeburn' 'Avocado' 'Banana' 'Orange' 'Strawberry' 'Watermelon']\n"
          ]
        }
      ],
      "source": [
        "print(np.unique(y_train))"
      ]
    },
    {
      "cell_type": "code",
      "execution_count": 3,
      "metadata": {
        "id": "NDN3rMmgdpJr"
      },
      "outputs": [],
      "source": [
        "# Encoding label \n",
        "from sklearn.preprocessing import LabelEncoder\n",
        "le = LabelEncoder()\n",
        "y_train = le.fit_transform(y_train)"
      ]
    },
    {
      "cell_type": "code",
      "execution_count": null,
      "metadata": {
        "id": "8bYiaICQdpJs",
        "outputId": "60fa4218-1bc3-48eb-870a-9a2c9a8a90a0"
      },
      "outputs": [
        {
          "name": "stdout",
          "output_type": "stream",
          "text": [
            "[0 0 0 ... 5 5 5]\n"
          ]
        }
      ],
      "source": [
        "print(y_train)"
      ]
    },
    {
      "cell_type": "code",
      "execution_count": null,
      "metadata": {
        "id": "LNgJUEFddpJt"
      },
      "outputs": [],
      "source": [
        "y_test = le.transform(y_test)"
      ]
    },
    {
      "cell_type": "code",
      "execution_count": 4,
      "metadata": {
        "id": "2coqHs5hdpJv",
        "outputId": "5732f957-89a4-4f46-e1fe-0aadabb6bec6"
      },
      "outputs": [
        {
          "name": "stdout",
          "output_type": "stream",
          "text": [
            "['Apple Braeburn' 'Avocado' 'Banana' 'Orange' 'Strawberry' 'Watermelon']\n"
          ]
        }
      ],
      "source": [
        "print(le.inverse_transform([0, 1, 2, 3, 4, 5])) \n",
        "\n"
      ]
    },
    {
      "cell_type": "code",
      "execution_count": null,
      "metadata": {
        "id": "mLhqNMXWdpJx",
        "outputId": "5955f62f-8bd1-4762-be4e-f00f0f9f6355"
      },
      "outputs": [
        {
          "name": "stdout",
          "output_type": "stream",
          "text": [
            "Dữ liệu y ban đầu  0\n",
            "Dữ liệu y sau one-hot encoding  [1. 0. 0. 0. 0. 0.]\n"
          ]
        }
      ],
      "source": [
        "# One hot encoding label (Y)\n",
        "from keras.utils import np_utils\n",
        "print('Dữ liệu y ban đầu ', y_train[0])\n",
        "y_train = np_utils.to_categorical(y_train, 6)\n",
        "y_test = np_utils.to_categorical(y_test, 6)\n",
        "print('Dữ liệu y sau one-hot encoding ',y_train[0])"
      ]
    },
    {
      "cell_type": "code",
      "execution_count": null,
      "metadata": {
        "id": "NrJ3K155dpJz"
      },
      "outputs": [],
      "source": [
        "# save numpy array, train model with colab ... \n",
        "np.save('X_train.npy', X_train)\n",
        "np.save('X_test.npy', X_test)\n",
        "np.save('y_train.npy', y_train)\n",
        "np.save('y_test.npy', y_test)"
      ]
    },
    {
      "cell_type": "code",
      "execution_count": 3,
      "metadata": {
        "colab": {
          "base_uri": "https://localhost:8080/"
        },
        "id": "M-U24b8Td-a9",
        "outputId": "9b63756e-7643-42f1-9dfe-38a5a5e058f3"
      },
      "outputs": [
        {
          "name": "stdout",
          "output_type": "stream",
          "text": [
            "(2855, 100, 100, 3) (954, 100, 100, 3) (2855, 6) (954, 6)\n"
          ]
        }
      ],
      "source": [
        "# load numpy array from npy file\n",
        "\n",
        "# load array\n",
        "X_train = np.load('/content/drive/MyDrive/Colab Notebooks/fruit_classification/X_train.npy')\n",
        "X_test = np.load('/content/drive/MyDrive/Colab Notebooks/fruit_classification/X_test.npy')\n",
        "y_train = np.load('/content/drive/MyDrive/Colab Notebooks/fruit_classification/y_train.npy')\n",
        "y_test = np.load('/content/drive/MyDrive/Colab Notebooks/fruit_classification/y_test.npy')\n",
        "# print the array\n",
        "print(X_train.shape, X_test.shape, y_train.shape, y_test.shape)"
      ]
    },
    {
      "cell_type": "code",
      "execution_count": 8,
      "metadata": {
        "id": "c6R9rhufdpJ0"
      },
      "outputs": [],
      "source": [
        "model = models.Sequential()\n",
        "model.add(layers.Conv2D(16, (5,5), activation='relu', input_shape=(100,100,3)))\n",
        "model.add(layers.MaxPooling2D(2,2))\n",
        "model.add(layers.Conv2D(32, (5,5), activation='relu'))\n",
        "model.add(layers.MaxPooling2D(2,2))\n",
        "model.add(layers.Conv2D(64, (5,5), activation='relu'))\n",
        "model.add(layers.MaxPooling2D(2,2))\n",
        "model.add(layers.Conv2D(128, (5,5), activation='relu'))\n",
        "model.add(layers.MaxPooling2D(2,2))\n",
        "model.add(layers.Flatten())\n",
        "model.add(layers.Dense(64, activation='relu'))\n",
        "model.add(layers.Dense(128, activation='relu'))\n",
        "model.add(layers.Dense(6, activation='softmax'))"
      ]
    },
    {
      "cell_type": "code",
      "execution_count": 9,
      "metadata": {
        "colab": {
          "base_uri": "https://localhost:8080/"
        },
        "id": "Td6GS5QgdpJ1",
        "outputId": "5c6c3952-40c1-4eeb-d741-f713cfe81873"
      },
      "outputs": [
        {
          "name": "stdout",
          "output_type": "stream",
          "text": [
            "Model: \"sequential_1\"\n",
            "_________________________________________________________________\n",
            " Layer (type)                Output Shape              Param #   \n",
            "=================================================================\n",
            " conv2d_4 (Conv2D)           (None, 96, 96, 16)        1216      \n",
            "                                                                 \n",
            " max_pooling2d_4 (MaxPooling  (None, 48, 48, 16)       0         \n",
            " 2D)                                                             \n",
            "                                                                 \n",
            " conv2d_5 (Conv2D)           (None, 44, 44, 32)        12832     \n",
            "                                                                 \n",
            " max_pooling2d_5 (MaxPooling  (None, 22, 22, 32)       0         \n",
            " 2D)                                                             \n",
            "                                                                 \n",
            " conv2d_6 (Conv2D)           (None, 18, 18, 64)        51264     \n",
            "                                                                 \n",
            " max_pooling2d_6 (MaxPooling  (None, 9, 9, 64)         0         \n",
            " 2D)                                                             \n",
            "                                                                 \n",
            " conv2d_7 (Conv2D)           (None, 5, 5, 128)         204928    \n",
            "                                                                 \n",
            " max_pooling2d_7 (MaxPooling  (None, 2, 2, 128)        0         \n",
            " 2D)                                                             \n",
            "                                                                 \n",
            " flatten_1 (Flatten)         (None, 512)               0         \n",
            "                                                                 \n",
            " dense_3 (Dense)             (None, 64)                32832     \n",
            "                                                                 \n",
            " dense_4 (Dense)             (None, 128)               8320      \n",
            "                                                                 \n",
            " dense_5 (Dense)             (None, 6)                 774       \n",
            "                                                                 \n",
            "=================================================================\n",
            "Total params: 312,166\n",
            "Trainable params: 312,166\n",
            "Non-trainable params: 0\n",
            "_________________________________________________________________\n"
          ]
        }
      ],
      "source": [
        "model.summary()"
      ]
    },
    {
      "cell_type": "code",
      "execution_count": 10,
      "metadata": {
        "colab": {
          "base_uri": "https://localhost:8080/"
        },
        "id": "UyAwlJWwdpJ2",
        "outputId": "6e2afeaf-29e4-42ae-d19f-1f0819022622"
      },
      "outputs": [
        {
          "name": "stdout",
          "output_type": "stream",
          "text": [
            "Epoch 1/30\n",
            "90/90 [==============================] - 2s 14ms/step - loss: 0.6978 - accuracy: 0.8781 - val_loss: 0.0046 - val_accuracy: 1.0000\n",
            "Epoch 2/30\n",
            "90/90 [==============================] - 1s 11ms/step - loss: 0.0777 - accuracy: 0.9814 - val_loss: 0.0417 - val_accuracy: 0.9811\n",
            "Epoch 3/30\n",
            "90/90 [==============================] - 1s 11ms/step - loss: 1.2538e-04 - accuracy: 1.0000 - val_loss: 0.0284 - val_accuracy: 0.9864\n",
            "Epoch 4/30\n",
            "90/90 [==============================] - 1s 13ms/step - loss: 4.3366e-05 - accuracy: 1.0000 - val_loss: 0.0291 - val_accuracy: 0.9864\n",
            "Epoch 5/30\n",
            "90/90 [==============================] - 1s 11ms/step - loss: 2.9441e-05 - accuracy: 1.0000 - val_loss: 0.0235 - val_accuracy: 0.9874\n",
            "Epoch 6/30\n",
            "90/90 [==============================] - 1s 11ms/step - loss: 1.9181e-05 - accuracy: 1.0000 - val_loss: 0.0171 - val_accuracy: 0.9885\n",
            "Epoch 7/30\n",
            "90/90 [==============================] - 1s 11ms/step - loss: 1.5437e-05 - accuracy: 1.0000 - val_loss: 0.0146 - val_accuracy: 0.9916\n",
            "Epoch 8/30\n",
            "90/90 [==============================] - 1s 11ms/step - loss: 1.0832e-05 - accuracy: 1.0000 - val_loss: 0.0139 - val_accuracy: 0.9916\n",
            "Epoch 9/30\n",
            "90/90 [==============================] - 1s 11ms/step - loss: 7.8373e-06 - accuracy: 1.0000 - val_loss: 0.0145 - val_accuracy: 0.9927\n",
            "Epoch 10/30\n",
            "90/90 [==============================] - 1s 13ms/step - loss: 5.9800e-06 - accuracy: 1.0000 - val_loss: 0.0152 - val_accuracy: 0.9895\n",
            "Epoch 11/30\n",
            "90/90 [==============================] - 1s 11ms/step - loss: 4.5779e-06 - accuracy: 1.0000 - val_loss: 0.0149 - val_accuracy: 0.9916\n",
            "Epoch 12/30\n",
            "90/90 [==============================] - 1s 11ms/step - loss: 3.6586e-06 - accuracy: 1.0000 - val_loss: 0.0152 - val_accuracy: 0.9916\n",
            "Epoch 13/30\n",
            "90/90 [==============================] - 1s 11ms/step - loss: 2.9687e-06 - accuracy: 1.0000 - val_loss: 0.0148 - val_accuracy: 0.9916\n",
            "Epoch 14/30\n",
            "90/90 [==============================] - 1s 11ms/step - loss: 2.4978e-06 - accuracy: 1.0000 - val_loss: 0.0132 - val_accuracy: 0.9916\n",
            "Epoch 15/30\n",
            "90/90 [==============================] - 1s 11ms/step - loss: 2.0935e-06 - accuracy: 1.0000 - val_loss: 0.0122 - val_accuracy: 0.9916\n",
            "Epoch 16/30\n",
            "90/90 [==============================] - 1s 11ms/step - loss: 1.7648e-06 - accuracy: 1.0000 - val_loss: 0.0112 - val_accuracy: 0.9948\n",
            "Epoch 17/30\n",
            "90/90 [==============================] - 1s 11ms/step - loss: 1.4702e-06 - accuracy: 1.0000 - val_loss: 0.0140 - val_accuracy: 0.9906\n",
            "Epoch 18/30\n",
            "90/90 [==============================] - 1s 11ms/step - loss: 1.1826e-06 - accuracy: 1.0000 - val_loss: 0.0281 - val_accuracy: 0.9853\n",
            "Epoch 19/30\n",
            "90/90 [==============================] - 1s 11ms/step - loss: 8.9349e-07 - accuracy: 1.0000 - val_loss: 0.0243 - val_accuracy: 0.9874\n",
            "Epoch 20/30\n",
            "90/90 [==============================] - 1s 11ms/step - loss: 7.3236e-07 - accuracy: 1.0000 - val_loss: 0.0219 - val_accuracy: 0.9874\n",
            "Epoch 21/30\n",
            "90/90 [==============================] - 1s 11ms/step - loss: 6.5959e-07 - accuracy: 1.0000 - val_loss: 0.0251 - val_accuracy: 0.9874\n",
            "Epoch 22/30\n",
            "90/90 [==============================] - 1s 11ms/step - loss: 4.4047e-07 - accuracy: 1.0000 - val_loss: 0.0234 - val_accuracy: 0.9874\n",
            "Epoch 23/30\n",
            "90/90 [==============================] - 1s 11ms/step - loss: 3.6351e-07 - accuracy: 1.0000 - val_loss: 0.0255 - val_accuracy: 0.9874\n",
            "Epoch 24/30\n",
            "90/90 [==============================] - 1s 11ms/step - loss: 3.0594e-07 - accuracy: 1.0000 - val_loss: 0.0257 - val_accuracy: 0.9874\n",
            "Epoch 25/30\n",
            "90/90 [==============================] - 1s 11ms/step - loss: 2.5934e-07 - accuracy: 1.0000 - val_loss: 0.0283 - val_accuracy: 0.9874\n",
            "Epoch 26/30\n",
            "90/90 [==============================] - 1s 11ms/step - loss: 2.2355e-07 - accuracy: 1.0000 - val_loss: 0.0285 - val_accuracy: 0.9874\n",
            "Epoch 27/30\n",
            "90/90 [==============================] - 1s 11ms/step - loss: 1.9520e-07 - accuracy: 1.0000 - val_loss: 0.0302 - val_accuracy: 0.9874\n",
            "Epoch 28/30\n",
            "90/90 [==============================] - 1s 11ms/step - loss: 1.7161e-07 - accuracy: 1.0000 - val_loss: 0.0303 - val_accuracy: 0.9874\n",
            "Epoch 29/30\n",
            "90/90 [==============================] - 1s 11ms/step - loss: 1.5165e-07 - accuracy: 1.0000 - val_loss: 0.0303 - val_accuracy: 0.9874\n",
            "Epoch 30/30\n",
            "90/90 [==============================] - 1s 11ms/step - loss: 1.3391e-07 - accuracy: 1.0000 - val_loss: 0.0293 - val_accuracy: 0.9874\n"
          ]
        }
      ],
      "source": [
        "model.compile(optimizer='adam',\n",
        "              loss='categorical_crossentropy',\n",
        "              metrics=['accuracy'])\n",
        "\n",
        "history = model.fit(X_train, y_train, epochs=30, batch_size=32, verbose=1,\n",
        "                    validation_data=(X_test, y_test))\n"
      ]
    },
    {
      "cell_type": "code",
      "execution_count": 11,
      "metadata": {
        "colab": {
          "base_uri": "https://localhost:8080/",
          "height": 300
        },
        "id": "EVNkofiZgNS4",
        "outputId": "0d6a1475-c2a6-4d1b-ba99-868c5129d2e3"
      },
      "outputs": [
        {
          "name": "stdout",
          "output_type": "stream",
          "text": [
            "30/30 - 0s - loss: 0.0293 - accuracy: 0.9874 - 186ms/epoch - 6ms/step\n"
          ]
        },
        {
          "data": {
            "image/png": "[encoded data removed]",
            "text/plain": [
              "<Figure size 432x288 with 1 Axes>"
            ]
          },
          "metadata": {
            "needs_background": "light"
          },
          "output_type": "display_data"
        }
      ],
      "source": [
        "plt.plot(history.history['accuracy'], label='accuracy')\n",
        "plt.plot(history.history['val_accuracy'], label = 'val_accuracy')\n",
        "plt.xlabel('Epoch')\n",
        "plt.ylabel('Accuracy')\n",
        "plt.ylim([0.5, 1])\n",
        "plt.legend(loc='lower right')\n",
        "\n",
        "test_loss, test_acc = model.evaluate(X_test,  y_test, verbose=2)"
      ]
    },
    {
      "cell_type": "code",
      "execution_count": 13,
      "metadata": {
        "colab": {
          "base_uri": "https://localhost:8080/"
        },
        "id": "VaMqIgZuhAMM",
        "outputId": "40e355ba-2b28-4987-c2c4-d0c21cc19cd5"
      },
      "outputs": [
        {
          "name": "stdout",
          "output_type": "stream",
          "text": [
            "Giá trị dự đoán:  0\n"
          ]
        }
      ],
      "source": [
        "y_predict = model.predict(X_test[0].reshape(1,100,100,3))\n",
        "print('Giá trị dự đoán: ', np.argmax(y_predict))"
      ]
    },
    {
      "cell_type": "code",
      "execution_count": 14,
      "metadata": {
        "colab": {
          "base_uri": "https://localhost:8080/"
        },
        "id": "YR65Q22jh6Bi",
        "outputId": "c8d1e89c-81c6-4b1e-dec8-a886d94444b2"
      },
      "outputs": [
        {
          "name": "stdout",
          "output_type": "stream",
          "text": [
            "[1. 0. 0. 0. 0. 0.]\n"
          ]
        }
      ],
      "source": [
        "print(y_test[0])"
      ]
    },
    {
      "cell_type": "code",
      "execution_count": 18,
      "metadata": {
        "id": "fDBATQzQiFFj"
      },
      "outputs": [],
      "source": [
        "model.save('my_model_weights.h5')"
      ]
    },
    {
      "cell_type": "code",
      "execution_count": 19,
      "metadata": {
        "id": "OyB3vd40iN6p"
      },
      "outputs": [],
      "source": [
        "from keras.models import load_model\n",
        "new_model = load_model('my_model_weights.h5')"
      ]
    },
    {
      "cell_type": "code",
      "execution_count": 20,
      "metadata": {
        "colab": {
          "base_uri": "https://localhost:8080/"
        },
        "id": "WPMScgaJiw5X",
        "outputId": "5b1174db-3a52-4bb3-f105-881ab89e9976"
      },
      "outputs": [
        {
          "name": "stdout",
          "output_type": "stream",
          "text": [
            "Giá trị dự đoán:  0\n"
          ]
        }
      ],
      "source": [
        "y_predict = new_model.predict(X_test[0].reshape(1,100,100,3))\n",
        "print('Giá trị dự đoán: ', np.argmax(y_predict))"
      ]
    }
  ],
  "metadata": {
    "accelerator": "GPU",
    "colab": {
      "name": "model_classification.ipynb",
      "provenance": []
    },
    "interpreter": {
      "hash": "1b67c24e5f8938a01f37a9ee93a5cc1a2fba608e575ad9f6ba725ac6f5a906b2"
    },
    "kernelspec": {
      "display_name": "Python 3.7.10 ('base')",
      "language": "python",
      "name": "python3"
    },
    "language_info": {
      "codemirror_mode": {
        "name": "ipython",
        "version": 3
      },
      "file_extension": ".py",
      "mimetype": "text/x-python",
      "name": "python",
      "nbconvert_exporter": "python",
      "pygments_lexer": "ipython3",
      "version": "3.8.8"
    },
    "orig_nbformat": 4
  },
  "nbformat": 4,
  "nbformat_minor": 0
}
